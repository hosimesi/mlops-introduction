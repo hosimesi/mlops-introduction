{
 "cells": [
  {
   "cell_type": "code",
   "execution_count": null,
   "metadata": {},
   "outputs": [],
   "source": [
    "import pandas as pd\n",
    "from sklearn.linear_model import SGDClassifier\n",
    "from sklearn.feature_extraction import FeatureHasher\n",
    "from sklearn.model_selection import train_test_split\n",
    "import warnings\n",
    "from sklearn import metrics\n",
    "warnings.filterwarnings('ignore')"
   ]
  },
  {
   "cell_type": "markdown",
   "metadata": {},
   "source": [
    "# データ読み込み"
   ]
  },
  {
   "cell_type": "code",
   "execution_count": null,
   "metadata": {},
   "outputs": [],
   "source": [
    "df = pd.read_csv(\"train_data\")"
   ]
  },
  {
   "cell_type": "code",
   "execution_count": null,
   "metadata": {},
   "outputs": [],
   "source": [
    "df.head()"
   ]
  },
  {
   "cell_type": "code",
   "execution_count": null,
   "metadata": {},
   "outputs": [],
   "source": [
    "df.describe()"
   ]
  },
  {
   "cell_type": "code",
   "execution_count": null,
   "metadata": {},
   "outputs": [],
   "source": [
    "df.isnull().sum()"
   ]
  },
  {
   "cell_type": "markdown",
   "metadata": {},
   "source": [
    "# 前処理"
   ]
  },
  {
   "cell_type": "code",
   "execution_count": null,
   "metadata": {},
   "outputs": [],
   "source": [
    "feature_names = [\n",
    "    \"hour\",\n",
    "    \"banner_pos\",\n",
    "    \"site_id\",\n",
    "    \"site_domain\",\n",
    "    \"site_category\",\n",
    "    \"app_id\",\n",
    "    \"app_domain\",\n",
    "    \"app_category\",\n",
    "    \"device_id\",\n",
    "    \"device_ip\",\n",
    "    \"device_model\",\n",
    "    \"device_type\",\n",
    "]\n",
    "\n",
    "target_name = \"click\""
   ]
  },
  {
   "cell_type": "code",
   "execution_count": null,
   "metadata": {},
   "outputs": [],
   "source": [
    "X = df[feature_names]\n",
    "y= df[target_name]\n",
    "X_train, X_test, y_train, y_test = train_test_split(X, y, test_size=0.1, shuffle=False)\n",
    "X_train, X_valid, y_train, y_valid = train_test_split(X_train, y_train, test_size=0.1, shuffle=False)"
   ]
  },
  {
   "cell_type": "code",
   "execution_count": null,
   "metadata": {},
   "outputs": [],
   "source": [
    "def preprocess(df: pd.DataFrame):\n",
    "    df['datetime'] = pd.to_datetime(df['hour'], format='%y%m%d%H')\n",
    "    df['hour'] = df['datetime'].dt.hour\n",
    "    df['weekday'] = df['datetime'].dt.weekday\n",
    "    feature_hasher = FeatureHasher(n_features=2**18, input_type=\"string\")\n",
    "    hashed_features = feature_hasher.fit_transform(df.astype(str).values)\n",
    "    return hashed_features"
   ]
  },
  {
   "cell_type": "code",
   "execution_count": null,
   "metadata": {},
   "outputs": [],
   "source": [
    "X_train_preprocessed = preprocess(X_train)\n",
    "X_valid_preprocessed = preprocess(X_valid)\n",
    "X_test_preprocessed = preprocess(X_test)"
   ]
  },
  {
   "cell_type": "markdown",
   "metadata": {},
   "source": [
    "# ハイパラチューニング"
   ]
  },
  {
   "cell_type": "code",
   "execution_count": null,
   "metadata": {},
   "outputs": [],
   "source": [
    "def grid_search(X_train, y_train, X_valid, y_valid) -> float:\n",
    "    best_score = 1e10\n",
    "    best_alpha = 0.01\n",
    "    for alpha in [1e-5, 1e-4, 1e-3, 1e2, 1e-1]:\n",
    "        model = SGDClassifier(loss=\"log_loss\", penalty=\"l2\", random_state=42, alpha=alpha)\n",
    "        model.fit(X_train, y_train)\n",
    "        valid_proba = model.predict_proba(X_valid_preprocessed)[:, 1]\n",
    "        valid_score = metrics.log_loss(y_valid, valid_proba)\n",
    "        print(f\"Grid Search| alpha: {alpha}, score: {valid_score}\")\n",
    "\n",
    "        if best_score > valid_score:\n",
    "            best_score = valid_score\n",
    "            best_alpha = alpha\n",
    "    return best_alpha"
   ]
  },
  {
   "cell_type": "markdown",
   "metadata": {},
   "source": [
    "# 学習・評価"
   ]
  },
  {
   "cell_type": "code",
   "execution_count": null,
   "metadata": {},
   "outputs": [],
   "source": [
    "best_alpha = grid_search(X_train_preprocessed, y_train, X_valid_preprocessed, y_valid)\n",
    "\n",
    "best_model = SGDClassifier(\n",
    "    loss=\"log_loss\", penalty=\"l2\", random_state=42, alpha=best_alpha\n",
    ")\n",
    "best_model.fit(X_train_preprocessed, y_train)\n",
    "\n",
    "# 予測確率を取得\n",
    "y_pred_proba = best_model.predict_proba(X_test_preprocessed)[:, 1]\n",
    "# 予測クラスを取得\n",
    "y_pred = best_model.predict(X_test_preprocessed)\n",
    "\n",
    "# logloss\n",
    "logloss = metrics.log_loss(y_test, y_pred_proba)\n",
    "# AUC\n",
    "auc = metrics.roc_auc_score(y_test, y_pred_proba)\n",
    "# Accuracy\n",
    "accuracy = metrics.accuracy_score(y_test, y_pred)\n",
    "\n",
    "print(\"test logloss: {}\".format(logloss))\n",
    "print(\"AUC: {}\".format(auc))\n",
    "print(\"Accuracy: {}\".format(accuracy))"
   ]
  }
 ],
 "metadata": {
  "language_info": {
   "name": "python"
  }
 },
 "nbformat": 4,
 "nbformat_minor": 2
}
